{
 "cells": [
  {
   "cell_type": "code",
   "execution_count": 1,
   "id": "607058cf",
   "metadata": {},
   "outputs": [],
   "source": [
    "import cv2\n",
    "import numpy as np"
   ]
  },
  {
   "cell_type": "markdown",
   "id": "c9fdac53",
   "metadata": {},
   "source": [
    "# KCF Object Tracking"
   ]
  },
  {
   "cell_type": "code",
   "execution_count": 2,
   "id": "bf4603d8",
   "metadata": {},
   "outputs": [],
   "source": [
    "#initialize the ‘KCF’ tracker object\n",
    "tracker = cv2.TrackerKCF_create() \n",
    "\n",
    "#video = cv2.VideoCapture(r'C:\\Users\\Naim Rihan\\Project\\watch.mp4')\n",
    "\n",
    "#initialize the camera\n",
    "video= cv2.VideoCapture(0)\n",
    "\n",
    "#fetch the first frame of the video\n",
    "ok,frame=video.read() \n",
    "\n",
    "#initialize the ‘selectROI’ function with the first frame of the video which we fetched\n",
    "#and store its value in the ‘bbox’ variable.\n",
    "bbox = cv2.selectROI(frame)\n",
    "\n",
    "#initialize the tracker (using ‘init’) with the frame (in which we selected our region of interest)\n",
    "#and position (bbox) of the object to be tracked.\n",
    "ok = tracker.init(frame,bbox)\n",
    "\n",
    "#Initialize a while loop that loops through the frames of our stream\n",
    "while True:\n",
    "    #fetch the frames of the video along with a flag parameter(‘ok’)\n",
    "    #which informs if the frame fetching process was successful or not.\n",
    "   ok,frame=video.read()\n",
    "\n",
    "    #If the flag parameter is false the execution stops i.e. if the stream is not fetched properly the execution is stopped.\n",
    "   if not ok:\n",
    "        break\n",
    "    #pass a new consecutive frame with every iteration of the loop.\n",
    "    #It returns two variables, first is a flag parameter that informs if the tracking process was successful or not\n",
    "    #and the second returns the position of the tracked object in the frame if and only if the first parameter was true.\n",
    "    \n",
    "    \n",
    "   ok,bbox=tracker.update(frame)\n",
    "   if ok: #If the ‘ok’ flag is true this block is executed. We fetched the position of the object in the ‘bbox’ variable, here we initialize the x,y coordinates and the values of width and height. Next, we use the OpenCV ‘rectangle’ function to put a bounding box around the detected object in consecutive frames of the video.\n",
    "        (x,y,w,h)=[int(v) for v in bbox]\n",
    "        cv2.rectangle(frame,(x,y),(x+w,y+h),(0,255,0),2,1)\n",
    "        \n",
    "   else: #If the tracker is unable to track the selected ROI or faces any errors, this block of code prints ‘Error’ on the video frames.\n",
    "        cv2.putText(frame,'Error',(100,0),cv2.FONT_HERSHEY_SIMPLEX,1,(0,0,255),2)\n",
    "        \n",
    "   cv2.imshow('Tracking',frame) #Showing the stream frames on a separate window using the ‘cv2.imshow’ function\n",
    "   if cv2.waitKey(1) & 0XFF==27: #If the user clicks the ‘escape’ button execution stops\n",
    "        break\n",
    "cv2.destroyAllWindows() #close all lingering windows if there are any."
   ]
  },
  {
   "cell_type": "markdown",
   "id": "3f4cb268",
   "metadata": {},
   "source": [
    "# CSRT Object Tracking"
   ]
  },
  {
   "cell_type": "code",
   "execution_count": 3,
   "id": "ac920203",
   "metadata": {},
   "outputs": [],
   "source": [
    "tracker = cv2.TrackerCSRT_create()\n",
    "video= cv2.VideoCapture(0)\n",
    "ok,frame=video.read()\n",
    "bbox = cv2.selectROI(frame)\n",
    "ok = tracker.init(frame,bbox)\n",
    "while True:\n",
    "    ok,frame=video.read()\n",
    "    if not ok:\n",
    "        break\n",
    "    ok,bbox=tracker.update(frame)\n",
    "    if ok:\n",
    "        (x,y,w,h)=[int(v) for v in bbox]\n",
    "        cv2.rectangle(frame,(x,y),(x+w,y+h),(0,255,0),2,1)\n",
    "    else:\n",
    "        cv2.putText(frame,'Error',(100,0),cv2.FONT_HERSHEY_SIMPLEX,1,(0,0,255),2)\n",
    "    cv2.imshow('Tracking',frame)\n",
    "    if cv2.waitKey(1) & 0XFF==27:\n",
    "        break\n",
    "cv2.destroyAllWindows()"
   ]
  },
  {
   "cell_type": "markdown",
   "id": "24b0e2fb",
   "metadata": {},
   "source": [
    "# Mean Shift Object Tracker"
   ]
  },
  {
   "cell_type": "code",
   "execution_count": 6,
   "id": "4bd34cde",
   "metadata": {},
   "outputs": [],
   "source": [
    "cap = cv2.VideoCapture(0)\n",
    "ret,frame=cap.read()\n",
    "x,y,w,h = cv2.selectROI(frame)\n",
    "track_window = (x, y, w, h)\n",
    "roi = frame[y:y+h, x:x+w]\n",
    "hsv_roi =  cv2.cvtColor(roi, cv2.COLOR_BGR2HSV)\n",
    "mask = cv2.inRange(hsv_roi, np.array((0., 60.,32.)), np.array((180.,255.,255.)))\n",
    "roi_hist = cv2.calcHist([hsv_roi],[0],mask,[180],[0,180])\n",
    "cv2.normalize(roi_hist,roi_hist,0,255,cv2.NORM_MINMAX)\n",
    "term_crit = ( cv2.TERM_CRITERIA_EPS | cv2.TERM_CRITERIA_COUNT, 10, 1 )\n",
    "while(1):\n",
    "   ret, frame = cap.read()\n",
    "   if ret == True:\n",
    "       hsv = cv2.cvtColor(frame, cv2.COLOR_BGR2HSV)\n",
    "       dst = cv2.calcBackProject([hsv],[0],roi_hist,[0,180],1)\n",
    "       ret, track_window = cv2.meanShift(dst, track_window, term_crit)\n",
    "       x,y,w,h = track_window\n",
    "       img2 = cv2.rectangle(frame, (x,y), (x+w,y+h), 255,2)\n",
    "       cv2.imshow('img2',img2)\n",
    "       k = cv2.waitKey(30) & 0xff\n",
    "       if k == 27:\n",
    "           break\n",
    "   else:\n",
    "       break\n",
    "cv2.destroyAllWindows()"
   ]
  },
  {
   "cell_type": "markdown",
   "id": "49ca0573",
   "metadata": {},
   "source": [
    "# Don't Touch This!"
   ]
  },
  {
   "cell_type": "code",
   "execution_count": 8,
   "id": "25882487",
   "metadata": {},
   "outputs": [],
   "source": [
    "import requests\n",
    "import cv2\n",
    "import numpy as np\n",
    "import imutils\n",
    "\n",
    "url = \"http://192.168.112.140:8080/shot.jpg\"\n",
    "\n",
    "while True:\n",
    "    img_resp = requests.get(url)\n",
    "    img_arr = np.array(bytearray(img_resp.content), dtype=np.uint8)\n",
    "    img = cv2.imdecode(img_arr, -1)\n",
    "    img = imutils.resize(img, width=1000, height=1800)\n",
    "    cv2.imshow(\"Android_cam\", img)\n",
    "  \n",
    "    # Press Esc key to exit\n",
    "    if cv2.waitKey(1) == 27:\n",
    "        break\n",
    "  \n",
    "cv2.destroyAllWindows()"
   ]
  },
  {
   "cell_type": "markdown",
   "id": "ec34bbf9",
   "metadata": {},
   "source": [
    "# Cam Shift Object Tracker"
   ]
  },
  {
   "cell_type": "code",
   "execution_count": 5,
   "id": "1d740102",
   "metadata": {},
   "outputs": [],
   "source": [
    "cap = cv2.VideoCapture(0)\n",
    "ret,frame=cap.read()\n",
    "x,y,w,h = cv2.selectROI(frame)\n",
    "track_window = (x, y, w, h)\n",
    "roi = frame[y:y+h, x:x+w]\n",
    "hsv_roi =  cv2.cvtColor(roi, cv2.COLOR_BGR2HSV)\n",
    "mask = cv2.inRange(hsv_roi, np.array((0., 60.,32.)), np.array((180.,255.,255.)))\n",
    "roi_hist = cv2.calcHist([hsv_roi],[0],mask,[180],[0,180])\n",
    "cv2.normalize(roi_hist,roi_hist,0,255,cv2.NORM_MINMAX)\n",
    "term_crit = ( cv2.TERM_CRITERIA_EPS | cv2.TERM_CRITERIA_COUNT, 10, 1 )\n",
    "while(1):\n",
    "   ret, frame = cap.read()\n",
    "   if ret == True:\n",
    "       hsv = cv2.cvtColor(frame, cv2.COLOR_BGR2HSV)\n",
    "       dst = cv2.calcBackProject([hsv],[0],roi_hist,[0,180],1)\n",
    "       ret, track_window = cv2.CamShift(dst, track_window, term_crit)\n",
    "       pts = cv2.boxPoints(ret)\n",
    "       pts=np.int0(pts)\n",
    "       img2 = cv2.polylines(frame, [pts], True, 255,2)\n",
    "       cv2.imshow('img2',img2)\n",
    "       k = cv2.waitKey(30) & 0xff\n",
    "       if k == 27:\n",
    "           break\n",
    "   else:\n",
    "       break\n",
    "cv2.destroyAllWindows()"
   ]
  }
 ],
 "metadata": {
  "kernelspec": {
   "display_name": "Python 3 (ipykernel)",
   "language": "python",
   "name": "python3"
  },
  "language_info": {
   "codemirror_mode": {
    "name": "ipython",
    "version": 3
   },
   "file_extension": ".py",
   "mimetype": "text/x-python",
   "name": "python",
   "nbconvert_exporter": "python",
   "pygments_lexer": "ipython3",
   "version": "3.9.7"
  }
 },
 "nbformat": 4,
 "nbformat_minor": 5
}
