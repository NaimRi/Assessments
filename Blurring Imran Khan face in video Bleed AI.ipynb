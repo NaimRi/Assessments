{
 "cells": [
  {
   "cell_type": "code",
   "execution_count": 7,
   "id": "6f9fcd47",
   "metadata": {},
   "outputs": [
    {
     "ename": "SyntaxError",
     "evalue": "invalid syntax (Temp/ipykernel_4816/4100714827.py, line 1)",
     "output_type": "error",
     "traceback": [
      "\u001b[1;36m  File \u001b[1;32m\"C:\\Users\\NAIMRI~1\\AppData\\Local\\Temp/ipykernel_4816/4100714827.py\"\u001b[1;36m, line \u001b[1;32m1\u001b[0m\n\u001b[1;33m    work plan:\u001b[0m\n\u001b[1;37m         ^\u001b[0m\n\u001b[1;31mSyntaxError\u001b[0m\u001b[1;31m:\u001b[0m invalid syntax\n"
     ]
    }
   ],
   "source": [
    "work plan:\n",
    "- Read YouTube video link\n",
    "- Save the video clip\n",
    "- Detect faces in every frame\n",
    "- Recognizing Imran Khan's face and comparing it with faces in every frame\n",
    "- Apply blurring only to Imran Khan faces in every frame\n",
    "- Transferring this work as basic functions to PyCharm\n",
    "- Publish this application to the browser using flask"
   ]
  },
  {
   "cell_type": "markdown",
   "id": "c972b1ed",
   "metadata": {},
   "source": [
    "# Because we need to blur just Imran Khan frames, I added a condition to detected faces, if they match Imran Khan then they can be blurred.\n",
    "\n",
    "# 'if Look_like_Imran(frame)== [True]:'"
   ]
  },
  {
   "cell_type": "code",
   "execution_count": 14,
   "id": "629e88a7",
   "metadata": {},
   "outputs": [],
   "source": [
    "# Importing required libraries\n",
    "\n",
    "import cv2\n",
    "import numpy as np\n",
    "from pytube import YouTube\n",
    "from cv2 import imread, cvtColor, COLOR_BGR2RGB\n",
    "from face_recognition import face_encodings, compare_faces\n",
    "import face_recognition as fr"
   ]
  },
  {
   "cell_type": "code",
   "execution_count": 15,
   "id": "9fa68138",
   "metadata": {},
   "outputs": [],
   "source": [
    "def resize(img,new_width=500):\n",
    "    height,width,_ = img.shape\n",
    "    ratio = height/width\n",
    "    new_height = int(ratio*new_width)\n",
    "    return cv2.resize(img,(new_width,new_height))"
   ]
  },
  {
   "cell_type": "code",
   "execution_count": 16,
   "id": "aca1b161",
   "metadata": {},
   "outputs": [],
   "source": [
    "def url_to_vid(url):\n",
    "    yt = YouTube(url) \n",
    "    return yt.streams.filter(progressive=True, file_extension='mp4').order_by('resolution')[-1].download()"
   ]
  },
  {
   "cell_type": "code",
   "execution_count": 17,
   "id": "98234c0c",
   "metadata": {},
   "outputs": [],
   "source": [
    "def Look_like_Imran(img):\n",
    "    imgAng = fr.load_image_file(r'C:\\Users\\Naim Rihan\\Imran_Khan\\Pakistan (5).jpg')\n",
    "    Test = img\n",
    "    fLoc = fr.face_locations(imgAng)[0]\n",
    "    encodeAng = fr.face_encodings(imgAng)[0]\n",
    "    fLocTest = fr.face_locations(Test)[0]\n",
    "    encTest = fr.face_encodings(Test)[0]\n",
    "    result = fr.compare_faces([encodeAng],encTest)\n",
    "    #faceDist = fr.face_distance([encodeAng],encTest)\n",
    "    return result"
   ]
  },
  {
   "cell_type": "code",
   "execution_count": 12,
   "id": "c8793926",
   "metadata": {},
   "outputs": [],
   "source": [
    "def blur(url):\n",
    "\n",
    "    vid = url_to_vid(url)\n",
    "    face_cascade = cv2.CascadeClassifier(r\"C:\\Users\\Naim Rihan\\blur face\\haarcascade_frontalface_alt.xml\")\n",
    "\n",
    "    cap = cv2.VideoCapture(vid)\n",
    "    \n",
    "    while True:\n",
    "        _,frame = cap.read()\n",
    "        frame = resize(frame)\n",
    "        #if Look_like_Imran(frame) == True:\n",
    "        detections = face_cascade.detectMultiScale(frame,scaleFactor=1.1,minNeighbors=6)\n",
    "\n",
    "        for face in detections:\n",
    "            x,y,w,h = face\n",
    "\n",
    "            frame[y:y+h,x:x+w] = cv2.GaussianBlur(frame[y:y+h,x:x+w],(15,15),cv2.BORDER_DEFAULT)\n",
    "            cv2.rectangle(frame,(x,y),(x+w,y+h),(255,0,0),2)\n",
    "\n",
    "            cv2.imshow(\"output\",frame)\n",
    " \n",
    "            if cv2.waitKey(1) == 27:\n",
    "                break\n",
    "\n",
    "\n",
    "    cap.release()\n",
    "    cv2.destroyAllWindows()"
   ]
  },
  {
   "cell_type": "markdown",
   "id": "235a2024",
   "metadata": {},
   "source": [
    "# Run This Code"
   ]
  },
  {
   "cell_type": "code",
   "execution_count": 13,
   "id": "000239e5",
   "metadata": {},
   "outputs": [
    {
     "name": "stdout",
     "output_type": "stream",
     "text": [
      " Please input some youtube url for Imran Khanhttps://www.youtube.com/watch?v=GA7eLPAoWIk&ab_channel=UnitedFever\n"
     ]
    },
    {
     "ename": "KeyboardInterrupt",
     "evalue": "",
     "output_type": "error",
     "traceback": [
      "\u001b[1;31m---------------------------------------------------------------------------\u001b[0m",
      "\u001b[1;31mKeyboardInterrupt\u001b[0m                         Traceback (most recent call last)",
      "\u001b[1;32mC:\\Users\\NAIMRI~1\\AppData\\Local\\Temp/ipykernel_4816/873581524.py\u001b[0m in \u001b[0;36m<module>\u001b[1;34m\u001b[0m\n\u001b[0;32m      1\u001b[0m \u001b[0murl\u001b[0m \u001b[1;33m=\u001b[0m \u001b[0minput\u001b[0m\u001b[1;33m(\u001b[0m \u001b[1;34m\" Please input some youtube url for Imran Khan\"\u001b[0m\u001b[1;33m)\u001b[0m\u001b[1;33m\u001b[0m\u001b[1;33m\u001b[0m\u001b[0m\n\u001b[1;32m----> 2\u001b[1;33m \u001b[0mblur\u001b[0m\u001b[1;33m(\u001b[0m\u001b[0murl\u001b[0m\u001b[1;33m)\u001b[0m\u001b[1;33m\u001b[0m\u001b[1;33m\u001b[0m\u001b[0m\n\u001b[0m\u001b[0;32m      3\u001b[0m \u001b[1;33m\u001b[0m\u001b[0m\n\u001b[0;32m      4\u001b[0m \u001b[1;31m#https://www.youtube.com/watch?v=5Oj_efDULxM&ab_channel=ImranKhan\u001b[0m\u001b[1;33m\u001b[0m\u001b[1;33m\u001b[0m\u001b[0m\n\u001b[0;32m      5\u001b[0m \u001b[1;31m#https://www.youtube.com/watch?v=knCGo0_vhZs&ab_channel=ImranKhan\u001b[0m\u001b[1;33m\u001b[0m\u001b[1;33m\u001b[0m\u001b[0m\n",
      "\u001b[1;32mC:\\Users\\NAIMRI~1\\AppData\\Local\\Temp/ipykernel_4816/3712075998.py\u001b[0m in \u001b[0;36mblur\u001b[1;34m(url)\u001b[0m\n\u001b[0;32m     10\u001b[0m         \u001b[0mframe\u001b[0m \u001b[1;33m=\u001b[0m \u001b[0mresize\u001b[0m\u001b[1;33m(\u001b[0m\u001b[0mframe\u001b[0m\u001b[1;33m)\u001b[0m\u001b[1;33m\u001b[0m\u001b[1;33m\u001b[0m\u001b[0m\n\u001b[0;32m     11\u001b[0m         \u001b[1;31m#if Look_like_Imran(frame) == True:\u001b[0m\u001b[1;33m\u001b[0m\u001b[1;33m\u001b[0m\u001b[0m\n\u001b[1;32m---> 12\u001b[1;33m         \u001b[0mdetections\u001b[0m \u001b[1;33m=\u001b[0m \u001b[0mface_cascade\u001b[0m\u001b[1;33m.\u001b[0m\u001b[0mdetectMultiScale\u001b[0m\u001b[1;33m(\u001b[0m\u001b[0mframe\u001b[0m\u001b[1;33m,\u001b[0m\u001b[0mscaleFactor\u001b[0m\u001b[1;33m=\u001b[0m\u001b[1;36m1.1\u001b[0m\u001b[1;33m,\u001b[0m\u001b[0mminNeighbors\u001b[0m\u001b[1;33m=\u001b[0m\u001b[1;36m6\u001b[0m\u001b[1;33m)\u001b[0m\u001b[1;33m\u001b[0m\u001b[1;33m\u001b[0m\u001b[0m\n\u001b[0m\u001b[0;32m     13\u001b[0m \u001b[1;33m\u001b[0m\u001b[0m\n\u001b[0;32m     14\u001b[0m         \u001b[1;32mfor\u001b[0m \u001b[0mface\u001b[0m \u001b[1;32min\u001b[0m \u001b[0mdetections\u001b[0m\u001b[1;33m:\u001b[0m\u001b[1;33m\u001b[0m\u001b[1;33m\u001b[0m\u001b[0m\n",
      "\u001b[1;31mKeyboardInterrupt\u001b[0m: "
     ]
    }
   ],
   "source": [
    "url = input( \" Please input some youtube url for Imran Khan\")\n",
    "blur(url)\n",
    "\n",
    "#https://www.youtube.com/watch?v=5Oj_efDULxM&ab_channel=ImranKhan\n",
    "#https://www.youtube.com/watch?v=knCGo0_vhZs&ab_channel=ImranKhan\n",
    "#https://www.youtube.com/watch?v=GA7eLPAoWIk&ab_channel=UnitedFever"
   ]
  },
  {
   "cell_type": "code",
   "execution_count": null,
   "id": "d2900cc8",
   "metadata": {},
   "outputs": [],
   "source": [
    "#def readImage(image):\n",
    "    #img = imread(image)\n",
    "   # rgb_img = cvtColor(img, COLOR_BGR2RGB)\n",
    "   # return face_encodings(rgb_img)[0]\n",
    "\n",
    "\n",
    "#def recognise(img1, img2):\n",
    " #   img_encoding1 = readImage(img1)\n",
    "  #  img_encoding2 = readImage(img2)\n",
    "   # return compare_faces ([img_encoding1], img_encoding2)\n",
    "\n",
    "\n",
    "#def main():\n",
    "\n",
    "#print ( recognise(\"pic1.jpeg\", \"pic2.webp\"))\n",
    "\n",
    "#if __name__ == '__main__':\n",
    "  # main()"
   ]
  },
  {
   "cell_type": "code",
   "execution_count": 5,
   "id": "e7da3d00",
   "metadata": {},
   "outputs": [
    {
     "data": {
      "text/plain": [
       "-1"
      ]
     },
     "execution_count": 5,
     "metadata": {},
     "output_type": "execute_result"
    }
   ],
   "source": [
    "import cv2\n",
    "import numpy as np\n",
    "\n",
    "\n",
    "face_cascade = cv2.CascadeClassifier(r\"C:\\Users\\Naim Rihan\\blur face\\haarcascade_frontalface_alt.xml\")\n",
    "\n",
    "img = cv2.imread(r'C:\\Users\\Naim Rihan\\Imran_Khan\\Pakistan (16).jpg')\n",
    "#img = cv2.imread(r'C:\\Users\\Naim Rihan\\Desktop\\data\\train\\ben_afflek\\f.jpg')\n",
    "\n",
    "if Look_like_Imran(img)== [True]:\n",
    "    \n",
    "    detections = face_cascade.detectMultiScale(img,scaleFactor=1.1,minNeighbors=6)\n",
    "    for face in detections:\n",
    "        x,y,w,h = face\n",
    "\n",
    "        img[y:y+h,x:x+w] = cv2.GaussianBlur(img[y:y+h,x:x+w],(15,15),cv2.BORDER_DEFAULT)\n",
    "             #cv2.rectangle(frame,(x,y),(x+w,y+h),(255,0,0),2)\n",
    "\n",
    "        cv2.imshow(\"output\",img)\n",
    "    cv2.waitKey(0)\n",
    "else:\n",
    "    cv2.imshow(\"output\",img)\n",
    "\n",
    "cv2.waitKey(0)"
   ]
  },
  {
   "cell_type": "markdown",
   "id": "1b63f2bc",
   "metadata": {},
   "source": [
    "# On Video"
   ]
  },
  {
   "cell_type": "code",
   "execution_count": 18,
   "id": "076967ab",
   "metadata": {},
   "outputs": [],
   "source": [
    "def blurr(url):\n",
    "\n",
    "    vid = url_to_vid(url)\n",
    "    face_cascade = cv2.CascadeClassifier(r\"C:\\Users\\Naim Rihan\\blur face\\haarcascade_frontalface_alt.xml\")\n",
    "\n",
    "    cap = cv2.VideoCapture(vid)\n",
    "    \n",
    "    while True:\n",
    "        _,frame = cap.read()\n",
    "        frame = resize(frame)\n",
    "        if Look_like_Imran(frame)== [True]:\n",
    "\n",
    "            detections = face_cascade.detectMultiScale(frame,scaleFactor=1.1,minNeighbors=6)\n",
    "\n",
    "            for face in detections:\n",
    "                x,y,w,h = face\n",
    "\n",
    "                frame[y:y+h,x:x+w] = cv2.GaussianBlur(frame[y:y+h,x:x+w],(15,15),cv2.BORDER_DEFAULT)\n",
    "                #cv2.rectangle(frame,(x,y),(x+w,y+h),(255,0,0),2)\n",
    "\n",
    "                cv2.imshow(\"output\",frame)\n",
    "                if cv2.waitKey(1) == 27:\n",
    "                    break\n",
    "        else:\n",
    "            cv2.imshow(\"output\",frame)\n",
    "            if cv2.waitKey(1) == 27:\n",
    "                break\n",
    "\n",
    "\n",
    "    cap.release()\n",
    "    cv2.destroyAllWindows()"
   ]
  },
  {
   "cell_type": "code",
   "execution_count": null,
   "id": "5012b26b",
   "metadata": {},
   "outputs": [
    {
     "name": "stdout",
     "output_type": "stream",
     "text": [
      " Please input some youtube url for Imran Khanhttps://www.youtube.com/watch?v=GA7eLPAoWIk&ab_channel=UnitedFever\n"
     ]
    }
   ],
   "source": [
    "url = input( \" Please input some youtube url for Imran Khan\")\n",
    "blurr(url)\n",
    "\n",
    "#https://www.youtube.com/watch?v=5Oj_efDULxM&ab_channel=ImranKhan\n",
    "#https://www.youtube.com/watch?v=knCGo0_vhZs&ab_channel=ImranKhan\n",
    "#https://www.youtube.com/watch?v=GA7eLPAoWIk&ab_channel=UnitedFever"
   ]
  },
  {
   "cell_type": "code",
   "execution_count": null,
   "id": "230632bf",
   "metadata": {},
   "outputs": [],
   "source": [
    "27\n"
   ]
  },
  {
   "cell_type": "code",
   "execution_count": null,
   "id": "3914f382",
   "metadata": {},
   "outputs": [],
   "source": []
  }
 ],
 "metadata": {
  "kernelspec": {
   "display_name": "Python 3 (ipykernel)",
   "language": "python",
   "name": "python3"
  },
  "language_info": {
   "codemirror_mode": {
    "name": "ipython",
    "version": 3
   },
   "file_extension": ".py",
   "mimetype": "text/x-python",
   "name": "python",
   "nbconvert_exporter": "python",
   "pygments_lexer": "ipython3",
   "version": "3.9.7"
  }
 },
 "nbformat": 4,
 "nbformat_minor": 5
}
